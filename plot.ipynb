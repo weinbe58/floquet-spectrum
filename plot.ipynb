{
 "cells": [
  {
   "cell_type": "code",
   "execution_count": 7,
   "id": "7f253f6e",
   "metadata": {
    "scrolled": true
   },
   "outputs": [
    {
     "name": "stdout",
     "output_type": "stream",
     "text": [
      "15.079644737231007\n"
     ]
    },
    {
     "data": {
      "text/plain": [
       "<Figure size 252x504 with 0 Axes>"
      ]
     },
     "metadata": {},
     "output_type": "display_data"
    }
   ],
   "source": [
    "import numpy as np\n",
    "import h5py\n",
    "import matplotlib\n",
    "matplotlib.rcParams[\"text.usetex\"]=\"true\"\n",
    "import matplotlib.pyplot as plt\n",
    "import matplotlib.colors as colors\n",
    "\n",
    "subgroup=dict(tw=0,Delta=5,gamma=0.05)\n",
    "\n",
    "\n",
    "with h5py.File(\"data.hdf5\",\"r\") as IO:\n",
    "    for grp in IO:\n",
    "        pars = eval(grp.split(\"_\")[-1])\n",
    "        if all(pars[k]==subgroup[k] for k in subgroup):\n",
    "            L = pars[\"L\"]\n",
    "            gamma = pars[\"gamma\"]\n",
    "            T = 2*np.pi/pars[\"Omega\"]\n",
    "            print((pars[\"tp\"]+pars[\"tw\"])*T)\n",
    "            \n",
    "            k = np.arange(-L//2+1,L//2+1,1)*2.0/L\n",
    "            \n",
    "            V_list = []\n",
    "            n_list = []\n",
    "            for dataset in IO[grp]:\n",
    "                \n",
    "                if dataset==\"Ef\":\n",
    "                    continue\n",
    "                V = float(dataset.split(\"_\")[-1])\n",
    "                n = IO[grp][dataset][2:,:].sum(axis=0)\n",
    "                V_list.append(V)\n",
    "                n_list.append(n)\n",
    "            \n",
    "            Omega,Delta = pars[\"Omega\"],pars[\"Delta\"]\n",
    "\n",
    "\n",
    "            V_list = np.asarray(V_list)\n",
    "            n_list = np.asarray(n_list)\n",
    "            \n",
    "            i = np.argsort(V_list)\n",
    "            V_list = V_list[i]\n",
    "            n_list = n_list[i]\n",
    "            \n",
    "#             m = np.ones_like(V_list,dtype=np.bool)\n",
    "            m = np.argwhere(np.abs(V_list)<15).ravel()\n",
    "            r = 2*k.size/V_list[m].size\n",
    "\n",
    "            f,ax = plt.subplots(1,1,figsize=(3.5,7))\n",
    "            try:\n",
    "                Ef = np.asarray(IO[grp][\"Ef\"])\n",
    "                ax.plot(k,Ef,marker=\"\",color=\"red\",linestyle=\":\")\n",
    "            except: \n",
    "                pass\n",
    "#             ax.plot(k,Ef+Omega,marker=\"\",color=\"red\",linestyle=\":\")\n",
    "#             ax.plot(k,Ef-Omega,marker=\"\",color=\"red\",linestyle=\":\")\n",
    "#             ax.plot(k,Ef+2*Omega,marker=\"\",color=\"red\",linestyle=\":\")\n",
    "#             ax.plot(k,Ef-2*Omega,marker=\"\",color=\"red\",linestyle=\":\")\n",
    "\n",
    "            vmax = n_list[m,:].max()\n",
    "            vmin = 1e-4\n",
    "            mesh = ax.pcolormesh(k,V_list[m],n_list[m,:],shading='auto',norm=colors.LogNorm(vmin,vmax))\n",
    "            ax.set_aspect(0.25)\n",
    "            ax.set_xticks([-1,0,1])\n",
    "            ax.set_ylabel(\"$V_g$\",fontsize=12)\n",
    "            \n",
    "            plt.xlabel(\"$k/\\pi$\",fontsize=12)\n",
    "            \n",
    "            plt.colorbar(mesh,ax=ax)\n",
    "            \n",
    "            pars = \"_\".join(str(k)+\"_\"+str(v) for k,v in pars.items())\n",
    "            plt.savefig(\"plots/spectrum_{}.jpg\".format(pars),bbox_inches=\"tight\",dpi=500)\n",
    "            plt.clf()\n",
    "                \n",
    "#             plt.plot(V_list[m],n_list[m,:].sum(axis=1))\n",
    "#             plt.show()                \n",
    "                \n",
    "    \n",
    "    "
   ]
  },
  {
   "cell_type": "code",
   "execution_count": 23,
   "id": "b76b8327",
   "metadata": {},
   "outputs": [],
   "source": []
  },
  {
   "cell_type": "code",
   "execution_count": null,
   "id": "d0e56095",
   "metadata": {},
   "outputs": [],
   "source": []
  }
 ],
 "metadata": {
  "kernelspec": {
   "display_name": "Python 3 (ipykernel)",
   "language": "python",
   "name": "python3"
  },
  "language_info": {
   "codemirror_mode": {
    "name": "ipython",
    "version": 3
   },
   "file_extension": ".py",
   "mimetype": "text/x-python",
   "name": "python",
   "nbconvert_exporter": "python",
   "pygments_lexer": "ipython3",
   "version": "3.8.8"
  }
 },
 "nbformat": 4,
 "nbformat_minor": 5
}
